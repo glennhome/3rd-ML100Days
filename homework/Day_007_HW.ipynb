{
 "cells": [
  {
   "cell_type": "markdown",
   "metadata": {
    "collapsed": true
   },
   "source": [
    "# 作業 : (Kaggle)鐵達尼生存預測"
   ]
  },
  {
   "cell_type": "markdown",
   "metadata": {},
   "source": [
    "# [作業目標]\n",
    "- 試著完成三種不同特徵類型的三種資料操作, 觀察結果\n",
    "- 思考一下, 這三種特徵類型, 哪一種應該最複雜/最難處理"
   ]
  },
  {
   "cell_type": "markdown",
   "metadata": {},
   "source": [
    "# [作業重點]\n",
    "- 完成剩餘的八種 類型 x 操作組合 (In[6]~In[13], Out[6]~Out[13])\n",
    "- 思考何種特徵類型, 應該最複雜"
   ]
  },
  {
   "cell_type": "code",
   "execution_count": 5,
   "metadata": {},
   "outputs": [
    {
     "data": {
      "text/plain": [
       "(891, 12)"
      ]
     },
     "execution_count": 5,
     "metadata": {},
     "output_type": "execute_result"
    }
   ],
   "source": [
    "# 載入基本套件\n",
    "import pandas as pd\n",
    "import numpy as np\n",
    "\n",
    "# 讀取訓練與測試資料\n",
    "data_path = 'data/'\n",
    "df_train = pd.read_csv(data_path + 'titanic_train.csv')\n",
    "df_test = pd.read_csv(data_path + 'titanic_test.csv')\n",
    "df_train.shape"
   ]
  },
  {
   "cell_type": "code",
   "execution_count": 6,
   "metadata": {},
   "outputs": [
    {
     "data": {
      "text/plain": [
       "(1309, 10)"
      ]
     },
     "execution_count": 6,
     "metadata": {},
     "output_type": "execute_result"
    }
   ],
   "source": [
    "# 重組資料成為訓練 / 預測用格式\n",
    "train_Y = df_train['Survived']\n",
    "ids = df_test['PassengerId']\n",
    "df_train = df_train.drop(['PassengerId', 'Survived'] , axis=1)\n",
    "df_test = df_test.drop(['PassengerId'] , axis=1)\n",
    "df = pd.concat([df_train,df_test])\n",
    "df.head()\n",
    "df.shape"
   ]
  },
  {
   "cell_type": "code",
   "execution_count": 11,
   "metadata": {},
   "outputs": [
    {
     "data": {
      "text/plain": [
       "object     5\n",
       "int64      3\n",
       "float64    2\n",
       "dtype: int64"
      ]
     },
     "execution_count": 11,
     "metadata": {},
     "output_type": "execute_result"
    }
   ],
   "source": [
    "# 秀出資料欄位的類型與數量\n",
    "dtype_df = df.dtypes.reset_index()\n",
    "dtype_df.columns = [\"Count\", \"Column Type\"]\n",
    "dtype_df = dtype_df.groupby(\"Column Type\").aggregate('count').reset_index()\n",
    "dtype_df\n",
    "#另一種方法\n",
    "df.dtypes.value_counts()"
   ]
  },
  {
   "cell_type": "code",
   "execution_count": 12,
   "metadata": {},
   "outputs": [
    {
     "name": "stdout",
     "output_type": "stream",
     "text": [
      "3 Integer Features : ['Pclass', 'SibSp', 'Parch']\n",
      "\n",
      "2 Float Features : ['Age', 'Fare']\n",
      "\n",
      "5 Object Features : ['Name', 'Sex', 'Ticket', 'Cabin', 'Embarked']\n"
     ]
    }
   ],
   "source": [
    "#確定只有 int64, float64, object 三種類型後, 分別將欄位名稱存於三個 list 中\n",
    "int_features = []\n",
    "float_features = []\n",
    "object_features = []\n",
    "for dtype, feature in zip(df.dtypes, df.columns):\n",
    "    if dtype == 'float64':\n",
    "        float_features.append(feature)\n",
    "    elif dtype == 'int64':\n",
    "        int_features.append(feature)\n",
    "    else:\n",
    "        object_features.append(feature)\n",
    "print(f'{len(int_features)} Integer Features : {int_features}\\n')\n",
    "print(f'{len(float_features)} Float Features : {float_features}\\n')\n",
    "print(f'{len(object_features)} Object Features : {object_features}')"
   ]
  },
  {
   "cell_type": "markdown",
   "metadata": {
    "collapsed": true
   },
   "source": [
    "# 作業1 \n",
    "* 試著執行作業程式，觀察三種類型 (int / float / object) 的欄位分別進行( 平均 mean / 最大值 Max / 相異值 nunique )  \n",
    "中的九次操作會有那些問題? 並試著解釋那些發生Error的程式區塊的原因? \n",
    "ans:Object,字串類型不能比大小也無平均值概念\n",
    "\n",
    "# 作業2\n",
    "* 思考一下，試著舉出今天五種類型以外的一種或多種資料類型，你舉出的新類型是否可以歸在三大類中的某些大類?  \n",
    "所以三大類特徵中，哪一大類處理起來應該最複雜?\n",
    "ans:相似度,可能可以歸在類別,時間類型最複雜"
   ]
  },
  {
   "cell_type": "code",
   "execution_count": 29,
   "metadata": {},
   "outputs": [
    {
     "name": "stdout",
     "output_type": "stream",
     "text": [
      "Pclass    2.294882\n",
      "SibSp     0.498854\n",
      "Parch     0.385027\n",
      "dtype: float64\n",
      "Pclass    3\n",
      "SibSp     8\n",
      "Parch     9\n",
      "dtype: int64\n",
      "Pclass    3\n",
      "SibSp     7\n",
      "Parch     8\n",
      "dtype: int64\n",
      "[1 2 3]\n",
      "[0 1 2 3 4 5 8]\n",
      "[0 1 2 3 4 5 6 9]\n"
     ]
    }
   ],
   "source": [
    "# 請依序列出 三種特徵類型 (int / float / object) x 三種方法 (平均 mean / 最大值 Max / 相異值 nunique) 的其餘操作\n",
    "# 例 : 整數 (int) 特徵取平均 (mean)\n",
    "print(df[int_features].mean())\n",
    "print(df[int_features].max())\n",
    "print(df[int_features].nunique())\n",
    "#印出int_feature各欄位的類別\n",
    "from sklearn.preprocessing import LabelEncoder\n",
    "le = LabelEncoder()\n",
    "for col in int_features:\n",
    "    le.fit(df[col])\n",
    "    print(le.classes_)"
   ]
  },
  {
   "cell_type": "code",
   "execution_count": 36,
   "metadata": {},
   "outputs": [
    {
     "name": "stdout",
     "output_type": "stream",
     "text": [
      "Age     29.881138\n",
      "Fare    33.295479\n",
      "dtype: float64\n",
      "Age      80.0000\n",
      "Fare    512.3292\n",
      "dtype: float64\n",
      "Age      98\n",
      "Fare    281\n",
      "dtype: int64\n",
      "[ 0.17  0.33  0.42  0.67  0.75  0.83  0.92  1.    2.    3.    4.    5.\n",
      "  6.    7.    8.    9.   10.   11.   11.5  12.   13.   14.   14.5  15.\n",
      " 16.   17.   18.   18.5  19.   20.   20.5  21.   22.   22.5  23.   23.5\n",
      " 24.   24.5  25.   26.   26.5  27.   28.   28.5  29.   30.   30.5  31.\n",
      " 32.   32.5  33.   34.   34.5  35.   36.   36.5  37.   38.   38.5  39.\n",
      " 40.   40.5  41.   42.   43.   44.   45.   45.5  46.   47.   48.   49.\n",
      " 50.   51.   52.   53.   54.   55.   55.5  56.   57.   58.   59.   60.\n",
      " 60.5  61.   62.   63.   64.   65.   66.   67.   70.   70.5  71.   74.\n",
      " 76.   80.     nan   nan   nan   nan   nan   nan   nan   nan   nan   nan\n",
      "   nan   nan   nan   nan   nan   nan   nan   nan   nan   nan   nan   nan\n",
      "   nan   nan   nan   nan   nan   nan   nan   nan   nan   nan   nan   nan\n",
      "   nan   nan   nan   nan   nan   nan   nan   nan   nan   nan   nan   nan\n",
      "   nan   nan   nan   nan   nan   nan   nan   nan   nan   nan   nan   nan\n",
      "   nan   nan   nan   nan   nan   nan   nan   nan   nan   nan   nan   nan\n",
      "   nan   nan   nan   nan   nan   nan   nan   nan   nan   nan   nan   nan\n",
      "   nan   nan   nan   nan   nan   nan   nan   nan   nan   nan   nan   nan\n",
      "   nan   nan   nan   nan   nan   nan   nan   nan   nan   nan   nan   nan\n",
      "   nan   nan   nan   nan   nan   nan   nan   nan   nan   nan   nan   nan\n",
      "   nan   nan   nan   nan   nan   nan   nan   nan   nan   nan   nan   nan\n",
      "   nan   nan   nan   nan   nan   nan   nan   nan   nan   nan   nan   nan\n",
      "   nan   nan   nan   nan   nan   nan   nan   nan   nan   nan   nan   nan\n",
      "   nan   nan   nan   nan   nan   nan   nan   nan   nan   nan   nan   nan\n",
      "   nan   nan   nan   nan   nan   nan   nan   nan   nan   nan   nan   nan\n",
      "   nan   nan   nan   nan   nan   nan   nan   nan   nan   nan   nan   nan\n",
      "   nan   nan   nan   nan   nan   nan   nan   nan   nan   nan   nan   nan\n",
      "   nan   nan   nan   nan   nan   nan   nan   nan   nan   nan   nan   nan\n",
      "   nan   nan   nan   nan   nan   nan   nan   nan   nan   nan   nan   nan\n",
      "   nan   nan   nan   nan   nan   nan   nan   nan   nan   nan   nan   nan\n",
      "   nan   nan   nan   nan   nan   nan   nan   nan   nan   nan   nan   nan\n",
      "   nan   nan   nan   nan   nan   nan   nan   nan   nan   nan   nan   nan\n",
      "   nan]\n",
      "[  0.       3.1708   4.0125   5.       6.2375   6.4375   6.45     6.4958\n",
      "   6.75     6.8583   6.95     6.975    7.       7.0458   7.05     7.0542\n",
      "   7.125    7.1417   7.225    7.2292   7.25     7.2833   7.3125   7.4958\n",
      "   7.5208   7.55     7.575    7.5792   7.6292   7.65     7.7208   7.725\n",
      "   7.7292   7.7333   7.7375   7.7417   7.75     7.775    7.7792   7.7875\n",
      "   7.7958   7.8      7.8208   7.8292   7.85     7.8542   7.875    7.8792\n",
      "   7.8875   7.8958   7.925    8.0292   8.05     8.1125   8.1375   8.1583\n",
      "   8.3      8.3625   8.4042   8.4333   8.4583   8.5167   8.6542   8.6625\n",
      "   8.6833   8.7125   8.85     8.9625   9.       9.2167   9.225    9.325\n",
      "   9.35     9.475    9.4833   9.5      9.5875   9.6875   9.825    9.8375\n",
      "   9.8417   9.8458  10.1708  10.4625  10.5     10.5167  10.7083  11.1333\n",
      "  11.2417  11.5     12.      12.1833  12.275   12.2875  12.35    12.475\n",
      "  12.525   12.65    12.7375  12.875   13.      13.4167  13.5     13.775\n",
      "  13.7917  13.8583  13.8625  13.9     14.      14.1083  14.4     14.4542\n",
      "  14.4583  14.5     15.      15.0333  15.0458  15.05    15.1     15.2458\n",
      "  15.5     15.55    15.5792  15.7417  15.75    15.85    15.9     16.\n",
      "  16.1     16.7     17.4     17.8     18.      18.75    18.7875  19.2583\n",
      "  19.5     19.9667  20.2125  20.25    20.525   20.575   21.      21.075\n",
      "  21.6792  22.025   22.3583  22.525   23.      23.25    23.45    24.\n",
      "  24.15    25.4667  25.5875  25.7     25.7417  25.925   25.9292  26.\n",
      "  26.25    26.2833  26.2875  26.3875  26.55    27.      27.4458  27.7208\n",
      "  27.75    27.9     28.5     28.5375  28.7125  29.      29.125   29.7\n",
      "  30.      30.0708  30.5     30.6958  31.      31.275   31.3875  31.5\n",
      "  31.6792  31.6833  32.3208  32.5     33.      33.5     34.0208  34.375\n",
      "  34.6542  35.      35.5     36.75    37.0042  38.5     39.      39.4\n",
      "  39.6     39.6875  40.125   41.5792  42.4     42.5     45.5     46.9\n",
      "  47.1     49.5     49.5042  50.      50.4958  51.4792  51.8625  52.\n",
      "  52.5542  53.1     55.      55.4417  55.9     56.4958  56.9292  57.\n",
      "  57.75    57.9792  59.4     60.      61.175   61.3792  61.9792  63.3583\n",
      "  65.      66.6     69.3     69.55    71.      71.2833  73.5     75.2417\n",
      "  75.25    76.2917  76.7292  77.2875  77.9583  78.2667  78.85    79.2\n",
      "  79.65    80.      81.8583  82.1708  82.2667  83.1583  83.475   86.5\n",
      "  89.1042  90.      91.0792  93.5    106.425  108.9    110.8833 113.275\n",
      " 120.     133.65   134.5    135.6333 136.7792 146.5208 151.55   153.4625\n",
      " 164.8667 211.3375 211.5    221.7792 227.525  247.5208 262.375  263.\n",
      " 512.3292      nan]\n"
     ]
    }
   ],
   "source": [
    "#float\n",
    "print(df[float_features].mean())\n",
    "print(df[float_features].max())\n",
    "print(df[float_features].nunique())\n",
    "#印出float_feature各欄位的類別\n",
    "from sklearn.preprocessing import LabelEncoder\n",
    "le = LabelEncoder()\n",
    "for col in float_features:\n",
    "    le.fit(df[col])\n",
    "    print(le.classes_)\n"
   ]
  },
  {
   "cell_type": "code",
   "execution_count": null,
   "metadata": {},
   "outputs": [],
   "source": [
    "'Name', 'Sex', 'Ticket', 'Cabin', 'Embarked'"
   ]
  },
  {
   "cell_type": "code",
   "execution_count": 46,
   "metadata": {},
   "outputs": [
    {
     "name": "stdout",
     "output_type": "stream",
     "text": [
      "Series([], dtype: float64)\n",
      "Name      van Melkebeke, Mr. Philemon\n",
      "Sex                              male\n",
      "Ticket                      WE/P 5735\n",
      "dtype: object\n",
      "Name        1307\n",
      "Sex            2\n",
      "Ticket       929\n",
      "Cabin        186\n",
      "Embarked       3\n",
      "dtype: int64\n",
      "['Abbing, Mr. Anthony' 'Abbott, Master. Eugene Joseph'\n",
      " 'Abbott, Mr. Rossmore Edward' ... 'van Billiard, Master. Walter John'\n",
      " 'van Billiard, Mr. Austin Blyler' 'van Melkebeke, Mr. Philemon']\n",
      "['female' 'male']\n",
      "['110152' '110413' '110465' '110469' '110489' '110564' '110813' '111163'\n",
      " '111240' '111320' '111361' '111369' '111426' '111427' '111428' '112050'\n",
      " '112051' '112052' '112053' '112058' '112059' '112277' '112377' '112378'\n",
      " '112379' '112901' '113028' '113038' '113043' '113044' '113050' '113051'\n",
      " '113054' '113055' '113056' '113059' '113501' '113503' '113505' '113509'\n",
      " '113510' '113514' '113572' '113760' '113767' '113773' '113776' '113778'\n",
      " '113780' '113781' '113783' '113784' '113786' '113787' '113788' '113789'\n",
      " '113790' '113791' '113792' '113794' '113795' '113796' '113798' '113800'\n",
      " '113801' '113803' '113804' '113806' '113807' '11668' '11751' '11752'\n",
      " '11753' '11755' '11765' '11767' '11769' '11770' '11771' '11774' '11778'\n",
      " '11813' '11967' '1222' '12233' '12460' '12749' '13049' '13050' '13213'\n",
      " '13214' '13236' '13502' '13507' '13508' '13509' '13567' '13568' '13695'\n",
      " '13905' '14311' '14312' '14313' '14973' '1601' '16966' '16988' '17421'\n",
      " '17453' '17463' '17464' '17465' '17466' '17474' '17475' '17764' '17765'\n",
      " '17770' '19877' '19924' '19928' '19943' '19947' '19950' '19952' '19972'\n",
      " '19988' '19996' '2003' '211535' '211536' '21228' '21332' '21440' '218629'\n",
      " '219533' '220367' '220844' '220845' '2223' '223596' '226593' '226875'\n",
      " '228414' '229236' '230080' '230136' '230433' '230434' '231919' '231945'\n",
      " '233478' '233639' '233734' '233866' '234360' '234604' '234686' '234818'\n",
      " '235509' '236171' '236852' '236853' '236854' '237216' '237249' '237393'\n",
      " '237442' '237565' '237668' '237670' '237671' '237734' '237735' '237736'\n",
      " '237789' '237798' '239059' '239853' '239854' '239855' '239856' '239865'\n",
      " '240261' '240276' '24065' '240929' '24160' '242963' '243847' '243880'\n",
      " '244252' '244270' '244278' '244310' '244346' '244358' '244360' '244361'\n",
      " '244367' '244368' '244373' '248659' '248698' '248706' '248723' '248726'\n",
      " '248727' '248731' '248733' '248734' '248738' '248740' '248744' '248746'\n",
      " '248747' '250643' '250644' '250646' '250647' '250648' '250649' '250650'\n",
      " '250651' '250652' '250653' '250655' '2543' '2620' '2621' '2622' '2623'\n",
      " '2624' '2625' '2626' '2627' '2628' '2629' '2631' '26360' '2641' '2647'\n",
      " '2648' '2649' '2650' '2651' '2652' '2653' '2654' '2655' '2656' '2657'\n",
      " '2658' '2659' '2660' '2661' '2662' '2663' '2664' '2665' '2666' '2667'\n",
      " '2668' '2669' '2670' '26707' '2671' '2672' '2673' '2674' '2675' '2676'\n",
      " '2677' '2678' '2679' '2680' '2681' '2682' '2683' '2684' '2685' '2686'\n",
      " '2687' '2688' '2689' '2690' '2691' '2692' '2693' '2694' '2695' '2696'\n",
      " '2697' '2698' '2699' '2700' '27042' '27267' '27849' '28004' '28034'\n",
      " '28133' '28134' '28206' '28213' '28220' '28221' '28228' '28403' '28404'\n",
      " '28424' '28425' '28551' '28664' '28665' '28666' '29011' '2908' '29103'\n",
      " '29104' '29105' '29106' '29107' '29108' '2926' '29750' '29751' '3101264'\n",
      " '3101265' '3101266' '3101267' '3101276' '3101277' '3101278' '3101281'\n",
      " '3101295' '3101296' '3101297' '3101298' '31027' '31028' '312991' '312992'\n",
      " '312993' '31418' '315037' '315082' '315083' '315084' '315085' '315086'\n",
      " '315087' '315088' '315089' '315090' '315091' '315092' '315093' '315094'\n",
      " '315095' '315096' '315097' '315098' '315151' '315152' '315153' '315154'\n",
      " '32302' '323592' '323951' '324669' '329944' '330844' '330877' '330909'\n",
      " '330910' '330911' '330919' '330920' '330923' '330924' '330931' '330932'\n",
      " '330935' '330958' '330959' '330963' '330968' '330971' '330972' '330979'\n",
      " '330980' '334912' '334914' '334915' '335097' '335432' '335677' '33638'\n",
      " '336439' '3410' '3411' '341826' '34218' '342441' '342684' '342712'\n",
      " '342826' '343095' '343120' '343271' '343275' '343276' '345364' '345498'\n",
      " '345501' '345572' '345763' '345764' '345765' '345767' '345768' '345769'\n",
      " '345770' '345771' '345773' '345774' '345775' '345777' '345778' '345779'\n",
      " '345780' '345781' '345783' '3460' '3470' '347054' '347060' '347061'\n",
      " '347062' '347063' '347064' '347065' '347066' '347067' '347068' '347069'\n",
      " '347070' '347071' '347072' '347073' '347074' '347075' '347076' '347077'\n",
      " '347078' '347079' '347080' '347081' '347082' '347083' '347085' '347086'\n",
      " '347087' '347088' '347089' '347090' '347091' '3474' '347464' '347465'\n",
      " '347466' '347467' '347468' '347469' '347470' '347471' '347742' '347743'\n",
      " '348121' '348122' '348123' '348124' '348125' '349201' '349202' '349203'\n",
      " '349204' '349205' '349206' '349207' '349208' '349209' '349210' '349211'\n",
      " '349212' '349213' '349214' '349215' '349216' '349217' '349218' '349219'\n",
      " '349220' '349221' '349222' '349223' '349224' '349225' '349226' '349227'\n",
      " '349228' '349229' '349230' '349231' '349232' '349233' '349234' '349235'\n",
      " '349236' '349237' '349238' '349239' '349240' '349241' '349242' '349243'\n",
      " '349244' '349245' '349246' '349247' '349248' '349249' '349250' '349251'\n",
      " '349252' '349253' '349254' '349255' '349256' '349257' '349909' '349910'\n",
      " '349911' '349912' '350025' '350026' '350029' '350033' '350034' '350035'\n",
      " '350036' '350042' '350043' '350045' '350046' '350047' '350048' '350050'\n",
      " '350052' '350053' '350054' '350060' '350403' '350404' '350405' '350406'\n",
      " '350407' '350408' '350409' '350410' '350416' '350417' '35273' '35281'\n",
      " '35851' '35852' '358585' '359306' '359309' '36209' '362316' '363272'\n",
      " '363291' '363294' '363592' '363611' '364498' '364499' '364500' '364506'\n",
      " '364511' '364512' '364516' '364846' '364848' '364849' '364850' '364851'\n",
      " '364856' '364858' '364859' '365222' '365226' '365235' '365237' '36568'\n",
      " '366713' '367226' '367227' '367228' '367229' '367230' '367231' '367232'\n",
      " '367655' '368323' '368364' '368402' '368573' '36864' '36865' '36866'\n",
      " '368702' '368703' '368783' '36928' '36947' '36963' '36967' '36973' '3701'\n",
      " '370129' '370365' '370368' '370369' '370370' '370371' '370372' '370373'\n",
      " '370374' '370375' '370376' '370377' '371060' '371109' '371110' '371362'\n",
      " '372622' '373450' '374746' '374887' '374910' '376563' '376564' '376566'\n",
      " '382649' '382650' '382651' '382652' '382653' '383121' '383123' '383162'\n",
      " '384461' '386525' '392091' '392092' '392095' '392096' '394140' '4133'\n",
      " '4134' '4135' '4136' '4137' '4138' '4579' '54636' '5727' '65303' '65304'\n",
      " '65305' '65306' '6563' '680' '693' '694' '695' '7266' '7267' '7534'\n",
      " '7538' '7540' '7545' '7546' '7548' '7552' '7553' '7598' '7935' '8471'\n",
      " '8475' '9232' '9234' 'A. 2. 39186' 'A./5. 2152' 'A./5. 3235' 'A./5. 3338'\n",
      " 'A.5. 11206' 'A.5. 18509' 'A.5. 3236' 'A/4 31416' 'A/4 45380' 'A/4 48871'\n",
      " 'A/4 48873' 'A/4. 20589' 'A/4. 34244' 'A/4. 39886' 'A/5 1478' 'A/5 21171'\n",
      " 'A/5 21172' 'A/5 21173' 'A/5 21174' 'A/5 21175' 'A/5 2466' 'A/5 2817'\n",
      " 'A/5 3536' 'A/5 3540' 'A/5 3594' 'A/5 3902' 'A/5. 10482' 'A/5. 13032'\n",
      " 'A/5. 2151' 'A/5. 3336' 'A/5. 3337' 'A/5. 851' 'A/S 2816' 'A4. 54510'\n",
      " 'AQ/3. 30631' 'AQ/4 3130' 'C 17368' 'C 17369' 'C 4001' 'C 7075' 'C 7076'\n",
      " 'C 7077' 'C.A. 15185' 'C.A. 17248' 'C.A. 18723' 'C.A. 2315' 'C.A. 24579'\n",
      " 'C.A. 24580' 'C.A. 2673' 'C.A. 29178' 'C.A. 29395' 'C.A. 29566'\n",
      " 'C.A. 30769' 'C.A. 31026' 'C.A. 31029' 'C.A. 31030' 'C.A. 31921'\n",
      " 'C.A. 33111' 'C.A. 33112' 'C.A. 33595' 'C.A. 34050' 'C.A. 34260'\n",
      " 'C.A. 34644' 'C.A. 34651' 'C.A. 37671' 'C.A. 42795' 'C.A. 49867'\n",
      " 'C.A. 5547' 'C.A. 6212' 'C.A./SOTON 34068' 'CA 2144' 'CA 31352'\n",
      " 'CA. 2314' 'CA. 2343' 'F.C. 12750' 'F.C. 12998' 'F.C.C. 13528'\n",
      " 'F.C.C. 13529' 'F.C.C. 13531' 'F.C.C. 13534' 'F.C.C. 13540' 'Fa 265302'\n",
      " 'LINE' 'LP 1588' 'P/PP 3381' 'PC 17318' 'PC 17473' 'PC 17474' 'PC 17475'\n",
      " 'PC 17476' 'PC 17477' 'PC 17482' 'PC 17483' 'PC 17485' 'PC 17531'\n",
      " 'PC 17558' 'PC 17562' 'PC 17569' 'PC 17572' 'PC 17580' 'PC 17582'\n",
      " 'PC 17585' 'PC 17590' 'PC 17591' 'PC 17592' 'PC 17593' 'PC 17594'\n",
      " 'PC 17595' 'PC 17596' 'PC 17597' 'PC 17598' 'PC 17599' 'PC 17600'\n",
      " 'PC 17601' 'PC 17603' 'PC 17604' 'PC 17605' 'PC 17606' 'PC 17607'\n",
      " 'PC 17608' 'PC 17609' 'PC 17610' 'PC 17611' 'PC 17612' 'PC 17613'\n",
      " 'PC 17754' 'PC 17755' 'PC 17756' 'PC 17757' 'PC 17758' 'PC 17759'\n",
      " 'PC 17760' 'PC 17761' 'PP 4348' 'PP 9549' 'S.C./A.4. 23567'\n",
      " 'S.C./PARIS 2079' 'S.O./P.P. 2' 'S.O./P.P. 251' 'S.O./P.P. 3'\n",
      " 'S.O./P.P. 751' 'S.O./P.P. 752' 'S.O.C. 14879' 'S.O.P. 1166' 'S.P. 3464'\n",
      " 'S.W./PP 752' 'SC 14888' 'SC 1748' 'SC/A.3 2861' 'SC/A4 23568'\n",
      " 'SC/AH 29037' 'SC/AH 3085' 'SC/AH Basle 541' 'SC/PARIS 2131'\n",
      " 'SC/PARIS 2133' 'SC/PARIS 2146' 'SC/PARIS 2147' 'SC/PARIS 2148'\n",
      " 'SC/PARIS 2149' 'SC/PARIS 2159' 'SC/PARIS 2166' 'SC/PARIS 2167'\n",
      " 'SC/PARIS 2168' 'SC/Paris 2123' 'SC/Paris 2163' 'SCO/W 1585' 'SO/C 14885'\n",
      " 'SOTON/O.Q. 3101262' 'SOTON/O.Q. 3101263' 'SOTON/O.Q. 3101305'\n",
      " 'SOTON/O.Q. 3101306' 'SOTON/O.Q. 3101307' 'SOTON/O.Q. 3101308'\n",
      " 'SOTON/O.Q. 3101309' 'SOTON/O.Q. 3101310' 'SOTON/O.Q. 3101311'\n",
      " 'SOTON/O.Q. 3101312' 'SOTON/O.Q. 3101314' 'SOTON/O.Q. 3101315'\n",
      " 'SOTON/O.Q. 392078' 'SOTON/O.Q. 392087' 'SOTON/O2 3101272'\n",
      " 'SOTON/O2 3101284' 'SOTON/O2 3101287' 'SOTON/OQ 3101316'\n",
      " 'SOTON/OQ 3101317' 'SOTON/OQ 392076' 'SOTON/OQ 392082' 'SOTON/OQ 392083'\n",
      " 'SOTON/OQ 392086' 'SOTON/OQ 392089' 'SOTON/OQ 392090' 'STON/O 2. 3101268'\n",
      " 'STON/O 2. 3101269' 'STON/O 2. 3101273' 'STON/O 2. 3101274'\n",
      " 'STON/O 2. 3101275' 'STON/O 2. 3101280' 'STON/O 2. 3101285'\n",
      " 'STON/O 2. 3101286' 'STON/O 2. 3101288' 'STON/O 2. 3101289'\n",
      " 'STON/O 2. 3101291' 'STON/O 2. 3101292' 'STON/O 2. 3101293'\n",
      " 'STON/O 2. 3101294' 'STON/O2. 3101270' 'STON/O2. 3101271'\n",
      " 'STON/O2. 3101279' 'STON/O2. 3101282' 'STON/O2. 3101283'\n",
      " 'STON/O2. 3101290' 'STON/OQ. 369943' 'SW/PP 751' 'W./C. 14258'\n",
      " 'W./C. 14260' 'W./C. 14263' 'W./C. 14266' 'W./C. 6607' 'W./C. 6608'\n",
      " 'W./C. 6609' 'W.E.P. 5734' 'W/C 14208' 'WE/P 5735']\n"
     ]
    },
    {
     "ename": "TypeError",
     "evalue": "'<' not supported between instances of 'str' and 'float'",
     "output_type": "error",
     "traceback": [
      "\u001b[1;31m---------------------------------------------------------------------------\u001b[0m",
      "\u001b[1;31mTypeError\u001b[0m                                 Traceback (most recent call last)",
      "\u001b[1;32m<ipython-input-46-751902fadc51>\u001b[0m in \u001b[0;36m<module>\u001b[1;34m\u001b[0m\n\u001b[0;32m      7\u001b[0m \u001b[0mle\u001b[0m \u001b[1;33m=\u001b[0m \u001b[0mLabelEncoder\u001b[0m\u001b[1;33m(\u001b[0m\u001b[1;33m)\u001b[0m\u001b[1;33m\u001b[0m\u001b[1;33m\u001b[0m\u001b[0m\n\u001b[0;32m      8\u001b[0m \u001b[1;32mfor\u001b[0m \u001b[0mcol\u001b[0m \u001b[1;32min\u001b[0m \u001b[0mobject_features\u001b[0m\u001b[1;33m:\u001b[0m\u001b[1;33m\u001b[0m\u001b[1;33m\u001b[0m\u001b[0m\n\u001b[1;32m----> 9\u001b[1;33m     \u001b[0mle\u001b[0m\u001b[1;33m.\u001b[0m\u001b[0mfit\u001b[0m\u001b[1;33m(\u001b[0m\u001b[0mdf\u001b[0m\u001b[1;33m[\u001b[0m\u001b[0mcol\u001b[0m\u001b[1;33m]\u001b[0m\u001b[1;33m)\u001b[0m\u001b[1;33m\u001b[0m\u001b[1;33m\u001b[0m\u001b[0m\n\u001b[0m\u001b[0;32m     10\u001b[0m     \u001b[0mprint\u001b[0m\u001b[1;33m(\u001b[0m\u001b[0mle\u001b[0m\u001b[1;33m.\u001b[0m\u001b[0mclasses_\u001b[0m\u001b[1;33m)\u001b[0m\u001b[1;33m\u001b[0m\u001b[1;33m\u001b[0m\u001b[0m\n",
      "\u001b[1;32m~\\Anaconda3\\lib\\site-packages\\sklearn\\preprocessing\\label.py\u001b[0m in \u001b[0;36mfit\u001b[1;34m(self, y)\u001b[0m\n\u001b[0;32m    218\u001b[0m         \"\"\"\n\u001b[0;32m    219\u001b[0m         \u001b[0my\u001b[0m \u001b[1;33m=\u001b[0m \u001b[0mcolumn_or_1d\u001b[0m\u001b[1;33m(\u001b[0m\u001b[0my\u001b[0m\u001b[1;33m,\u001b[0m \u001b[0mwarn\u001b[0m\u001b[1;33m=\u001b[0m\u001b[1;32mTrue\u001b[0m\u001b[1;33m)\u001b[0m\u001b[1;33m\u001b[0m\u001b[1;33m\u001b[0m\u001b[0m\n\u001b[1;32m--> 220\u001b[1;33m         \u001b[0mself\u001b[0m\u001b[1;33m.\u001b[0m\u001b[0mclasses_\u001b[0m \u001b[1;33m=\u001b[0m \u001b[0m_encode\u001b[0m\u001b[1;33m(\u001b[0m\u001b[0my\u001b[0m\u001b[1;33m)\u001b[0m\u001b[1;33m\u001b[0m\u001b[1;33m\u001b[0m\u001b[0m\n\u001b[0m\u001b[0;32m    221\u001b[0m         \u001b[1;32mreturn\u001b[0m \u001b[0mself\u001b[0m\u001b[1;33m\u001b[0m\u001b[1;33m\u001b[0m\u001b[0m\n\u001b[0;32m    222\u001b[0m \u001b[1;33m\u001b[0m\u001b[0m\n",
      "\u001b[1;32m~\\Anaconda3\\lib\\site-packages\\sklearn\\preprocessing\\label.py\u001b[0m in \u001b[0;36m_encode\u001b[1;34m(values, uniques, encode)\u001b[0m\n\u001b[0;32m    106\u001b[0m     \"\"\"\n\u001b[0;32m    107\u001b[0m     \u001b[1;32mif\u001b[0m \u001b[0mvalues\u001b[0m\u001b[1;33m.\u001b[0m\u001b[0mdtype\u001b[0m \u001b[1;33m==\u001b[0m \u001b[0mobject\u001b[0m\u001b[1;33m:\u001b[0m\u001b[1;33m\u001b[0m\u001b[1;33m\u001b[0m\u001b[0m\n\u001b[1;32m--> 108\u001b[1;33m         \u001b[1;32mreturn\u001b[0m \u001b[0m_encode_python\u001b[0m\u001b[1;33m(\u001b[0m\u001b[0mvalues\u001b[0m\u001b[1;33m,\u001b[0m \u001b[0muniques\u001b[0m\u001b[1;33m,\u001b[0m \u001b[0mencode\u001b[0m\u001b[1;33m)\u001b[0m\u001b[1;33m\u001b[0m\u001b[1;33m\u001b[0m\u001b[0m\n\u001b[0m\u001b[0;32m    109\u001b[0m     \u001b[1;32melse\u001b[0m\u001b[1;33m:\u001b[0m\u001b[1;33m\u001b[0m\u001b[1;33m\u001b[0m\u001b[0m\n\u001b[0;32m    110\u001b[0m         \u001b[1;32mreturn\u001b[0m \u001b[0m_encode_numpy\u001b[0m\u001b[1;33m(\u001b[0m\u001b[0mvalues\u001b[0m\u001b[1;33m,\u001b[0m \u001b[0muniques\u001b[0m\u001b[1;33m,\u001b[0m \u001b[0mencode\u001b[0m\u001b[1;33m)\u001b[0m\u001b[1;33m\u001b[0m\u001b[1;33m\u001b[0m\u001b[0m\n",
      "\u001b[1;32m~\\Anaconda3\\lib\\site-packages\\sklearn\\preprocessing\\label.py\u001b[0m in \u001b[0;36m_encode_python\u001b[1;34m(values, uniques, encode)\u001b[0m\n\u001b[0;32m     61\u001b[0m     \u001b[1;31m# only used in _encode below, see docstring there for details\u001b[0m\u001b[1;33m\u001b[0m\u001b[1;33m\u001b[0m\u001b[1;33m\u001b[0m\u001b[0m\n\u001b[0;32m     62\u001b[0m     \u001b[1;32mif\u001b[0m \u001b[0muniques\u001b[0m \u001b[1;32mis\u001b[0m \u001b[1;32mNone\u001b[0m\u001b[1;33m:\u001b[0m\u001b[1;33m\u001b[0m\u001b[1;33m\u001b[0m\u001b[0m\n\u001b[1;32m---> 63\u001b[1;33m         \u001b[0muniques\u001b[0m \u001b[1;33m=\u001b[0m \u001b[0msorted\u001b[0m\u001b[1;33m(\u001b[0m\u001b[0mset\u001b[0m\u001b[1;33m(\u001b[0m\u001b[0mvalues\u001b[0m\u001b[1;33m)\u001b[0m\u001b[1;33m)\u001b[0m\u001b[1;33m\u001b[0m\u001b[1;33m\u001b[0m\u001b[0m\n\u001b[0m\u001b[0;32m     64\u001b[0m         \u001b[0muniques\u001b[0m \u001b[1;33m=\u001b[0m \u001b[0mnp\u001b[0m\u001b[1;33m.\u001b[0m\u001b[0marray\u001b[0m\u001b[1;33m(\u001b[0m\u001b[0muniques\u001b[0m\u001b[1;33m,\u001b[0m \u001b[0mdtype\u001b[0m\u001b[1;33m=\u001b[0m\u001b[0mvalues\u001b[0m\u001b[1;33m.\u001b[0m\u001b[0mdtype\u001b[0m\u001b[1;33m)\u001b[0m\u001b[1;33m\u001b[0m\u001b[1;33m\u001b[0m\u001b[0m\n\u001b[0;32m     65\u001b[0m     \u001b[1;32mif\u001b[0m \u001b[0mencode\u001b[0m\u001b[1;33m:\u001b[0m\u001b[1;33m\u001b[0m\u001b[1;33m\u001b[0m\u001b[0m\n",
      "\u001b[1;31mTypeError\u001b[0m: '<' not supported between instances of 'str' and 'float'"
     ]
    }
   ],
   "source": [
    "#object\n",
    "print(df[object_features].mean())\n",
    "print(df[object_features].max())\n",
    "print(df[object_features].nunique())\n",
    "#印出object_feature各欄位的類別,Cabin,Embarked無法使用labelcoder\n",
    "from sklearn.preprocessing import LabelEncoder\n",
    "le = LabelEncoder()\n",
    "for col in object_features:\n",
    "    le.fit(df[col])\n",
    "    print(le.classes_)"
   ]
  },
  {
   "cell_type": "code",
   "execution_count": null,
   "metadata": {},
   "outputs": [],
   "source": []
  }
 ],
 "metadata": {
  "kernelspec": {
   "display_name": "Python 3",
   "language": "python",
   "name": "python3"
  },
  "language_info": {
   "codemirror_mode": {
    "name": "ipython",
    "version": 3
   },
   "file_extension": ".py",
   "mimetype": "text/x-python",
   "name": "python",
   "nbconvert_exporter": "python",
   "pygments_lexer": "ipython3",
   "version": "3.7.3"
  }
 },
 "nbformat": 4,
 "nbformat_minor": 2
}
